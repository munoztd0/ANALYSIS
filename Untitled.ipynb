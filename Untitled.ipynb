{
 "cells": [
  {
   "cell_type": "code",
   "execution_count": 23,
   "metadata": {},
   "outputs": [],
   "source": [
    "\n",
    "#!/usr/bin/env python\n",
    "# coding: utf-8\n",
    "\n",
    "\n",
    "# data analysis and wrangling\n",
    "import pandas as pd\n",
    "import numpy as np\n",
    "from scipy.stats import zscore\n",
    "\n"
   ]
  },
  {
   "cell_type": "code",
   "execution_count": 46,
   "metadata": {},
   "outputs": [
    {
     "name": "stdout",
     "output_type": "stream",
     "text": [
      "           0         1  2\n",
      "0   8.224862  6.557588  1\n",
      "1  26.514997  1.538194  1\n",
      "2  44.504790  3.479651  1\n",
      "3  62.512753  2.161010  1\n",
      "4  80.519380  0.737869  1\n",
      "           0         1  2\n",
      "0   8.224862  0.163694  1\n",
      "1  26.514997  0.782187  1\n",
      "2  44.504790  1.904069  1\n",
      "3  62.512753  0.646333  1\n",
      "4  80.519380 -0.831079  1\n"
     ]
    }
   ],
   "source": [
    "\n",
    "#declare subject\n",
    "GLM = (\"GLM-01\")\n",
    "t = (\"01\", \"02\", \"03\", \"04\", \"05\", \"06\", \"07\", \"09\", \"10\", \"11\", \"12\", \"13\",\"14\", \"15\", \"16\", \"17\",\"18\", \"20\", \"21\", \"22\",\"23\", \"24\",\"25\", \"26\") \n",
    "task = (\"task-hedonic\") # \"task-PIT\") #,\n",
    "taskDIR = (\"hedonic\")\n",
    "subj = 'sub-01'\n",
    "cond = \n",
    "#for i in t:\n",
    "   # subj = 'sub-' + i\n",
    "    for cond\n",
    "    \n",
    "# save filepath to variable for easier access\n",
    "intensitypath = '~/CISA/REWOD/DATA/STUDY/MODELS/SPM/' + taskDIR + '/' + GLM + '/' + subj + '/timing/' + GLM + '_' + task + '_odor_' + cond + '.txt'\n",
    "\n",
    "# read the data and store data in DataFrame\n",
    "intensity_data = pd.read_table(intensitypath,sep='\\t', header=None)\n",
    "liking_data = pd.read_csv(likingpath, sep='\\t', header=None)\n",
    "print(liking_data.head())\n",
    "intensity_data.iloc[:,1] = zscore(intensity_data.iloc[:,1])\n",
    "liking_data.iloc[:,1] = zscore(intensity_data.iloc[:,1])\n",
    "\n",
    "intensity_data.to_csv(GLM + '_' + task + '_intensity.txt', index=False)\n",
    "liking_data.to_csv(GLM + '_' + task + '_liking.txt', index=False)\n",
    "print(liking_data.head())\n",
    "\n",
    "\n"
   ]
  },
  {
   "cell_type": "code",
   "execution_count": null,
   "metadata": {},
   "outputs": [],
   "source": []
  }
 ],
 "metadata": {
  "kernelspec": {
   "display_name": "Python 3",
   "language": "python",
   "name": "python3"
  },
  "language_info": {
   "codemirror_mode": {
    "name": "ipython",
    "version": 3
   },
   "file_extension": ".py",
   "mimetype": "text/x-python",
   "name": "python",
   "nbconvert_exporter": "python",
   "pygments_lexer": "ipython3",
   "version": "3.7.1"
  }
 },
 "nbformat": 4,
 "nbformat_minor": 2
}
