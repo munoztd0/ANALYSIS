{
 "cells": [
  {
   "cell_type": "code",
   "execution_count": 57,
   "metadata": {},
   "outputs": [
    {
     "name": "stdout",
     "output_type": "stream",
     "text": [
      "0.5031269042769193\n",
      "pvalue = 0.0\n"
     ]
    }
   ],
   "source": [
    "\n",
    "\n",
    "#!/usr/bin/env python\n",
    "# coding: utf-8\n",
    "\n",
    "\n",
    "# data analysis and wrangling\n",
    "import pandas as pd\n",
    "from scipy.stats import linregress\n",
    "\n",
    "\n",
    "\n",
    "#declare variables\n",
    "s = (\"01\", \"02\", \"03\", \"04\", \"05\", \"06\", \"07\", \"09\", \"10\", \"11\", \"12\", \"13\",\"14\", \"15\", \"16\", \"17\",\"18\", \"20\", \"21\", \"22\",\"23\", \"24\",\"25\", \"26\")\n",
    "\n",
    "df = pd.DataFrame()\n",
    "\n",
    "for i in s:\n",
    "    subj = 'sub-' + i\n",
    "    # save filepath to variable for easier access\n",
    "    corrpath = '/home/cisa/CISA/REWOD/DATA/STUDY/CLEAN/' + subj + '/func/'\n",
    "\n",
    "    # read the data and store data in DataFrame\n",
    "    corr_data = pd.read_table(corrpath + 'corr_task-hedonic.txt',sep='\\t', header=None)\n",
    "    df = df.append(corr_data, ignore_index=True)\n",
    "\n",
    "corr = df[0].corr(df[1])\n",
    "print(corr)\n",
    "result = linregress(df[0], df[1])\n",
    "print('pvalue =', round(result.pvalue))\n",
    "\n"
   ]
  },
  {
   "cell_type": "code",
   "execution_count": 90,
   "metadata": {},
   "outputs": [
    {
     "name": "stdout",
     "output_type": "stream",
     "text": [
      "0.0\n"
     ]
    }
   ],
   "source": [
    "#!/usr/bin/env python\n",
    "# coding: utf-8\n",
    "\n",
    "\n",
    "# data analysis and wrangling\n",
    "import pandas as pd\n",
    "import numpy as np\n",
    "import os\n",
    "from scipy.stats import zscore\n",
    "from  statistics import stdev\n",
    "\n",
    "\n",
    "\n",
    "#declare variables\n",
    "GLM = (\"GLM-04\")\n",
    "s = (\"01\", \"02\", \"03\", \"04\", \"05\", \"06\", \"07\", \"09\", \"10\", \"11\", \"12\", \"13\",\"14\", \"15\", \"16\", \"17\",\"18\", \"20\", \"21\", \"22\",\"23\", \"24\",\"25\", \"26\")\n",
    "c = (\"control_lik\", \"neutral_lik\", \"reward_lik\", \"control_int\", \"neutral_int\", \"reward_int\")\n",
    "task = 'task-hedonic'\n",
    "taskDIR = (\"hedonic\")\n",
    "\n",
    "for i in s:\n",
    "    subj = 'sub-' + i\n",
    "     modpath = '/home/cisa/CISA/REWOD/DATA/STUDY/MODELS/SPM/' + taskDIR + '/' + GLM + '/' + subj + '/timing/'\n",
    "    \n",
    "    for j in c:\n",
    "        cond = j\n",
    "        # save filepath to variable for easier access\n",
    "       \n",
    "\n",
    "        # read the data and store data in DataFrame\n",
    "        mod_data = pd.read_table(modpath + GLM + '_' + task + '_odor_' + cond + '.txt',sep='\\t', header=None)\n",
    "        if stdev(mod_data[2]) == 0:\n",
    "            mod_data[2] = 0\n",
    "            os.chdir(modpath)\n",
    "            mod_data.to_csv(GLM + '_' + task + '_odor_' + cond + '.txt', sep='\\t', index=False, header=None)\n",
    "        else:\n",
    "            mod_data[2] = zscore(mod_data[2])\n",
    "            mod_data = mod_data.round(5)\n",
    "            os.chdir(modpath)\n",
    "            mod_data.to_csv(GLM + '_' + task + '_odor_' + cond + '.txt', sep='\\t', index=False, header=None)\n"
   ]
  },
  {
   "cell_type": "code",
   "execution_count": null,
   "metadata": {},
   "outputs": [],
   "source": [
    " print(mod_data)\n",
    "    df = np.isfinite(mod_data.iloc[:,2:]).all()\n",
    "    print(subj)\n",
    "    print(df)\n",
    "    print('iloc')\n",
    "    print(mod_data.iloc[:,2:])\n",
    "    mod_data.iloc[:,2] = zscore(mod_data.iloc[:,2:])\n",
    "    if std(mod_data.iloc[:,2:]).std== 0\n",
    "    print('ilocZ')\n",
    "    print(mod_data.iloc[:,2:])\n",
    "    #os.chdir(modpath)\n",
    "    #mod_data.to_csv(GLM + '_' + task + '_odor_' + cond + '.txt', sep='\\t', index=False, header=None)\n",
    "    #r_array.append(df)\n",
    "            #except:\n",
    "        #sys.exit(1)"
   ]
  },
  {
   "cell_type": "code",
   "execution_count": 71,
   "metadata": {},
   "outputs": [
    {
     "data": {
      "text/plain": [
       "<bound method DataFrame.std of      2\n",
       "0  NaN\n",
       "1  NaN\n",
       "2  NaN\n",
       "3  NaN\n",
       "4  NaN\n",
       "5  NaN\n",
       "6  NaN\n",
       "7  NaN\n",
       "8  NaN\n",
       "9  NaN\n",
       "10 NaN\n",
       "11 NaN\n",
       "12 NaN\n",
       "13 NaN\n",
       "14 NaN\n",
       "15 NaN\n",
       "16 NaN\n",
       "17 NaN>"
      ]
     },
     "execution_count": 71,
     "metadata": {},
     "output_type": "execute_result"
    }
   ],
   "source": [
    "(mod_data.iloc[:,2:]).std\n"
   ]
  },
  {
   "cell_type": "code",
   "execution_count": 37,
   "metadata": {},
   "outputs": [],
   "source": [
    "#declare variables\n",
    "GLM = (\"GLM-03\")\n",
    "s = (\"01\", \"02\", \"03\", \"04\", \"05\", \"06\", \"07\", \"09\", \"10\", \"11\", \"12\", \"13\",\"14\", \"15\", \"16\", \"17\",\"18\", \"20\", \"21\", \"22\",\"23\", \"24\",\"25\", \"26\")\n",
    "c = (\"control\", \"neutral\", \"reward\", \"control_int\", \"neutral_int\", \"reward_int\")\n",
    "task = 'task-hedonic'\n",
    "taskDIR = (\"hedonic\")\n",
    "subj = 'sub-20'\n",
    "#cond = \"reward_int\"\n",
    "for j in c:\n",
    "    cond = j\n",
    "    # save filepath to variable for easier access\n",
    "    modpath = '/home/cisa/CISA/REWOD/DATA/STUDY/MODELS/SPM/' + taskDIR + '/' + GLM + '/' + subj + '/timing/'\n",
    "\n",
    "    # read the data and store data in DataFrame\n",
    "    mod_data = pd.read_table(modpath + GLM + '_' + task + '_odor_' + cond + '.txt',sep='\\t', header=None)\n",
    "    mod_data.iloc[:,2] = zscore(mod_data.iloc[:,2])\n",
    "    os.chdir(modpath)\n",
    "    mod_data.to_csv(GLM + '_' + task + '_odor_' + cond + '.txt', sep='\\t', index=False, header=None)\n"
   ]
  },
  {
   "cell_type": "code",
   "execution_count": null,
   "metadata": {},
   "outputs": [],
   "source": []
  }
 ],
 "metadata": {
  "kernelspec": {
   "display_name": "Python 3",
   "language": "python",
   "name": "python3"
  },
  "language_info": {
   "codemirror_mode": {
    "name": "ipython",
    "version": 3
   },
   "file_extension": ".py",
   "mimetype": "text/x-python",
   "name": "python",
   "nbconvert_exporter": "python",
   "pygments_lexer": "ipython3",
   "version": "3.7.1"
  }
 },
 "nbformat": 4,
 "nbformat_minor": 2
}
